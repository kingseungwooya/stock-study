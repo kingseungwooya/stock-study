{
 "cells": [
  {
   "cell_type": "code",
   "execution_count": 1,
   "id": "60e5885e",
   "metadata": {},
   "outputs": [
    {
     "name": "stdout",
     "output_type": "stream",
     "text": [
      "Collecting pykrx\n",
      "  Downloading pykrx-1.0.45-py3-none-any.whl (2.2 MB)\n",
      "Requirement already satisfied: multipledispatch in c:\\users\\user\\anaconda3\\lib\\site-packages (from pykrx) (0.6.0)\n",
      "Requirement already satisfied: pandas in c:\\users\\user\\anaconda3\\lib\\site-packages (from pykrx) (2.0.3)\n",
      "Collecting deprecated\n",
      "  Downloading Deprecated-1.2.14-py2.py3-none-any.whl (9.6 kB)\n",
      "Collecting datetime\n",
      "  Downloading DateTime-5.4-py3-none-any.whl (52 kB)\n",
      "Requirement already satisfied: xlrd in c:\\users\\user\\anaconda3\\lib\\site-packages (from pykrx) (2.0.1)\n",
      "Requirement already satisfied: numpy in c:\\users\\user\\anaconda3\\lib\\site-packages (from pykrx) (1.24.3)\n",
      "Requirement already satisfied: matplotlib in c:\\users\\user\\anaconda3\\lib\\site-packages (from pykrx) (3.3.4)\n",
      "Requirement already satisfied: requests in c:\\users\\user\\anaconda3\\lib\\site-packages (from pykrx) (2.31.0)\n",
      "Requirement already satisfied: pytz in c:\\users\\user\\anaconda3\\lib\\site-packages (from datetime->pykrx) (2023.3.post1)\n",
      "Requirement already satisfied: zope.interface in c:\\users\\user\\anaconda3\\lib\\site-packages (from datetime->pykrx) (5.3.0)\n",
      "Requirement already satisfied: wrapt<2,>=1.10 in c:\\users\\user\\anaconda3\\lib\\site-packages (from deprecated->pykrx) (1.12.1)\n",
      "Requirement already satisfied: cycler>=0.10 in c:\\users\\user\\anaconda3\\lib\\site-packages (from matplotlib->pykrx) (0.10.0)\n",
      "Requirement already satisfied: python-dateutil>=2.1 in c:\\users\\user\\anaconda3\\lib\\site-packages (from matplotlib->pykrx) (2.8.2)\n",
      "Requirement already satisfied: kiwisolver>=1.0.1 in c:\\users\\user\\anaconda3\\lib\\site-packages (from matplotlib->pykrx) (1.3.1)\n",
      "Requirement already satisfied: pyparsing!=2.0.4,!=2.1.2,!=2.1.6,>=2.0.3 in c:\\users\\user\\anaconda3\\lib\\site-packages (from matplotlib->pykrx) (2.4.7)\n",
      "Requirement already satisfied: pillow>=6.2.0 in c:\\users\\user\\anaconda3\\lib\\site-packages (from matplotlib->pykrx) (8.2.0)\n",
      "Requirement already satisfied: six in c:\\users\\user\\anaconda3\\lib\\site-packages (from cycler>=0.10->matplotlib->pykrx) (1.15.0)\n",
      "Requirement already satisfied: tzdata>=2022.1 in c:\\users\\user\\anaconda3\\lib\\site-packages (from pandas->pykrx) (2023.4)\n",
      "Requirement already satisfied: certifi>=2017.4.17 in c:\\users\\user\\anaconda3\\lib\\site-packages (from requests->pykrx) (2020.12.5)\n",
      "Requirement already satisfied: urllib3<3,>=1.21.1 in c:\\users\\user\\anaconda3\\lib\\site-packages (from requests->pykrx) (1.26.4)\n",
      "Requirement already satisfied: idna<4,>=2.5 in c:\\users\\user\\anaconda3\\lib\\site-packages (from requests->pykrx) (2.10)\n",
      "Requirement already satisfied: charset-normalizer<4,>=2 in c:\\users\\user\\anaconda3\\lib\\site-packages (from requests->pykrx) (3.3.2)\n",
      "Requirement already satisfied: setuptools in c:\\users\\user\\anaconda3\\lib\\site-packages (from zope.interface->datetime->pykrx) (52.0.0.post20210125)\n",
      "Installing collected packages: deprecated, datetime, pykrx\n",
      "Successfully installed datetime-5.4 deprecated-1.2.14 pykrx-1.0.45\n"
     ]
    }
   ],
   "source": [
    "!pip install pykrx"
   ]
  },
  {
   "cell_type": "code",
   "execution_count": 108,
   "id": "9d0aef2e",
   "metadata": {},
   "outputs": [],
   "source": [
    "from pykrx import stock\n",
    "from pykrx import bond\n",
    "from datetime import datetime, timedelta\n",
    "import pandas_datareader.data as pdr\n",
    "# import yfinance as yf\n",
    "import FinanceDataReader as fdr\n"
   ]
  },
  {
   "cell_type": "code",
   "execution_count": 102,
   "id": "46696aa8",
   "metadata": {},
   "outputs": [
    {
     "name": "stdout",
     "output_type": "stream",
     "text": [
      "953\n"
     ]
    }
   ],
   "source": [
    "df = stock.get_market_ticker_list()\n",
    "print(len(df))"
   ]
  },
  {
   "cell_type": "code",
   "execution_count": 137,
   "id": "f4989e77",
   "metadata": {},
   "outputs": [
    {
     "data": {
      "text/plain": [
       "953"
      ]
     },
     "execution_count": 137,
     "metadata": {},
     "output_type": "execute_result"
    }
   ],
   "source": [
    "apis = stock.get_market_ticker_list(market='KOSPI')\n",
    "tickers = apis\n",
    "len(tickers)\n",
    "#  종목 = stock.get_market_ticker_name(ticker)"
   ]
  },
  {
   "cell_type": "code",
   "execution_count": 24,
   "id": "f9cfe7dd",
   "metadata": {
    "scrolled": true
   },
   "outputs": [
    {
     "name": "stdout",
     "output_type": "stream",
     "text": [
      "               시가     고가     저가     종가       거래량           거래대금   등락률\n",
      "날짜                                                                   \n",
      "2024-01-04  76100  77300  76100  76600  15324439  1173912901977 -0.52\n",
      "2024-01-05  76700  77100  76400  76600  11304316   866836486100  0.00\n",
      "2024-01-08  77000  77500  76400  76500  11088724   852681337648 -0.13\n",
      "2024-01-09  77400  77700  74300  74700  26019249  1971736955597 -2.35\n"
     ]
    }
   ],
   "source": [
    "print(df.tail(4))"
   ]
  },
  {
   "cell_type": "code",
   "execution_count": 25,
   "id": "aa30eda5",
   "metadata": {},
   "outputs": [
    {
     "name": "stdout",
     "output_type": "stream",
     "text": [
      "날짜\n",
      "2024-01-04    76100\n",
      "2024-01-05    76700\n",
      "2024-01-08    77000\n",
      "2024-01-09    77400\n",
      "Name: 시가, dtype: int32\n"
     ]
    }
   ],
   "source": [
    "print(df.tail(4)['시가'])"
   ]
  },
  {
   "cell_type": "code",
   "execution_count": 127,
   "id": "4c0a6a42",
   "metadata": {},
   "outputs": [],
   "source": [
    "def is_heuksam(prices):\n",
    "    sorted_list_desc = sorted(prices, reverse=True)\n",
    "    return prices == sorted_list_desc\n",
    "\n",
    "def merge(start_prices, end_prices):\n",
    "    merged_list = []\n",
    "    for num1, num2 in zip(start_prices, end_prices):\n",
    "        merged_list.append(num1)\n",
    "        merged_list.append(num2)\n",
    "    return merged_list\n",
    " \n",
    "def get_three_day(list):\n",
    "    subset_list = list[-6 : -1]\n",
    "    return subset_list"
   ]
  },
  {
   "cell_type": "code",
   "execution_count": null,
   "id": "9c61319c",
   "metadata": {},
   "outputs": [],
   "source": []
  },
  {
   "cell_type": "code",
   "execution_count": 138,
   "id": "fb6f3c7d",
   "metadata": {},
   "outputs": [
    {
     "name": "stderr",
     "output_type": "stream",
     "text": [
      "<ipython-input-138-702e4b48a5ba>:24: RuntimeWarning: invalid value encountered in scalar divide\n",
      "  max_rate = current_df['High'].values[0] / current_df['Open'].values[0]\n"
     ]
    },
    {
     "name": "stdout",
     "output_type": "stream",
     "text": [
      "1.007645259938838\n"
     ]
    },
    {
     "name": "stderr",
     "output_type": "stream",
     "text": [
      "<ipython-input-138-702e4b48a5ba>:24: RuntimeWarning: invalid value encountered in scalar divide\n",
      "  max_rate = current_df['High'].values[0] / current_df['Open'].values[0]\n"
     ]
    },
    {
     "name": "stdout",
     "output_type": "stream",
     "text": [
      "1.0071942446043165\n",
      "1.0256776034236805\n",
      "1.0113851992409868\n",
      "1.013138686131387\n",
      "1.0033167495854063\n",
      "1.0071283095723014\n",
      "1.0090805902383655\n",
      "1.0097932535364527\n",
      "1.003683241252302\n"
     ]
    },
    {
     "name": "stderr",
     "output_type": "stream",
     "text": [
      "<ipython-input-138-702e4b48a5ba>:24: RuntimeWarning: invalid value encountered in scalar divide\n",
      "  max_rate = current_df['High'].values[0] / current_df['Open'].values[0]\n"
     ]
    },
    {
     "name": "stdout",
     "output_type": "stream",
     "text": [
      "1.0024479804161566\n",
      "1.005306603773585\n"
     ]
    },
    {
     "name": "stderr",
     "output_type": "stream",
     "text": [
      "<ipython-input-138-702e4b48a5ba>:24: RuntimeWarning: invalid value encountered in scalar divide\n",
      "  max_rate = current_df['High'].values[0] / current_df['Open'].values[0]\n",
      "<ipython-input-138-702e4b48a5ba>:24: RuntimeWarning: invalid value encountered in scalar divide\n",
      "  max_rate = current_df['High'].values[0] / current_df['Open'].values[0]\n",
      "<ipython-input-138-702e4b48a5ba>:24: RuntimeWarning: invalid value encountered in scalar divide\n",
      "  max_rate = current_df['High'].values[0] / current_df['Open'].values[0]\n",
      "<ipython-input-138-702e4b48a5ba>:24: RuntimeWarning: invalid value encountered in scalar divide\n",
      "  max_rate = current_df['High'].values[0] / current_df['Open'].values[0]\n"
     ]
    },
    {
     "name": "stdout",
     "output_type": "stream",
     "text": [
      "1.0091883614088821\n"
     ]
    },
    {
     "name": "stderr",
     "output_type": "stream",
     "text": [
      "<ipython-input-138-702e4b48a5ba>:24: RuntimeWarning: invalid value encountered in scalar divide\n",
      "  max_rate = current_df['High'].values[0] / current_df['Open'].values[0]\n"
     ]
    },
    {
     "name": "stdout",
     "output_type": "stream",
     "text": [
      "1.0072859744990892\n"
     ]
    },
    {
     "name": "stderr",
     "output_type": "stream",
     "text": [
      "<ipython-input-138-702e4b48a5ba>:24: RuntimeWarning: invalid value encountered in scalar divide\n",
      "  max_rate = current_df['High'].values[0] / current_df['Open'].values[0]\n"
     ]
    },
    {
     "name": "stdout",
     "output_type": "stream",
     "text": [
      "1.0092764378478665\n",
      "1.0085910652920962\n"
     ]
    },
    {
     "name": "stderr",
     "output_type": "stream",
     "text": [
      "<ipython-input-138-702e4b48a5ba>:24: RuntimeWarning: invalid value encountered in scalar divide\n",
      "  max_rate = current_df['High'].values[0] / current_df['Open'].values[0]\n"
     ]
    },
    {
     "name": "stdout",
     "output_type": "stream",
     "text": [
      "1.0062893081761006\n"
     ]
    },
    {
     "name": "stderr",
     "output_type": "stream",
     "text": [
      "<ipython-input-138-702e4b48a5ba>:24: RuntimeWarning: invalid value encountered in scalar divide\n",
      "  max_rate = current_df['High'].values[0] / current_df['Open'].values[0]\n",
      "<ipython-input-138-702e4b48a5ba>:24: RuntimeWarning: invalid value encountered in scalar divide\n",
      "  max_rate = current_df['High'].values[0] / current_df['Open'].values[0]\n",
      "<ipython-input-138-702e4b48a5ba>:24: RuntimeWarning: invalid value encountered in scalar divide\n",
      "  max_rate = current_df['High'].values[0] / current_df['Open'].values[0]\n",
      "<ipython-input-138-702e4b48a5ba>:24: RuntimeWarning: invalid value encountered in scalar divide\n",
      "  max_rate = current_df['High'].values[0] / current_df['Open'].values[0]\n"
     ]
    },
    {
     "name": "stdout",
     "output_type": "stream",
     "text": [
      "1.0047732696897376\n",
      "1.002469135802469\n",
      "1.010016694490818\n",
      "1.0058823529411764\n",
      "1.0381471389645776\n",
      "1.0077452667814113\n",
      "1.0034782608695652\n"
     ]
    }
   ],
   "source": [
    "heuk_sams = []\n",
    "# 현재 날짜 구하기\n",
    "today = datetime.today() - timedelta(days=1)\n",
    "\n",
    "# 6일 전 날짜 구하기\n",
    "before = today - timedelta(days=7)\n",
    "\n",
    "heuksam_count = 0\n",
    "more_then_two_percent = 0\n",
    "more_then_three_percent = 0\n",
    "more_then_one_percent = 0\n",
    "plus_count = 0\n",
    "\n",
    "for ticker in tickers:\n",
    "    # df = stock.get_market_ohlcv(before.strftime(\"%Y%m%d\"), today.strftime(\"%Y%m%d\"), ticker, adjusted=False)\n",
    "    df_fdr = fdr.DataReader(ticker, start=before.strftime(\"%Y-%m-%d\"), end=today.strftime(\"%Y-%m-%d\"))\n",
    "    df = df_fdr.tail(5)\n",
    "    \n",
    "    current_df = df_fdr.tail(1)\n",
    "#     print(current_df)\n",
    "    current_df_rate = 0\n",
    "    max_rate = 0\n",
    "    try:\n",
    "        max_rate = current_df['High'].values[0] / current_df['Open'].values[0]\n",
    "        current_df_rate= current_df['Change'].values[0]\n",
    "    except KeyError and ZeroDivisionError:\n",
    "        # print(\"error\")\n",
    "        continue\n",
    "    # print(current_df_rate)\n",
    "    \n",
    "    \n",
    " \n",
    "    is_valid = True\n",
    "    start_prices = get_three_day(df['Open'].tolist())\n",
    "    end_prices = get_three_day(df['Close'].tolist())\n",
    "    \n",
    "    serialize = merge(start_prices, end_prices)\n",
    "    \n",
    "    if is_heuksam(serialize):\n",
    "        \n",
    "        heuksam_count+= 1\n",
    "        if (max_rate > 1.0).any():\n",
    "            print(max_rate)\n",
    "            plus_count+= 1\n",
    "        if (max_rate >  1.01).any():\n",
    "            more_then_one_percent+= 1    \n",
    "        if (max_rate >  1.02).any():\n",
    "            more_then_two_percent+= 1\n",
    "        if (max_rate >  1.03).any():\n",
    "            more_then_three_percent+= 1\n",
    "            \n",
    "#         if (current_df_rate > 0.0).any():\n",
    "#             print(current_df_rate)\n",
    "#             plus_count+= 1\n",
    "#         if (current_df_rate >  0.01).any():\n",
    "#             more_then_one_percent+= 1    \n",
    "#         if (current_df_rate >  0.02).any():\n",
    "#             more_then_two_percent+= 1\n",
    "#         if (current_df_rate >  0.03).any():\n",
    "#             more_then_three_percent+= 1\n",
    "   \n",
    "        \n",
    "        "
   ]
  },
  {
   "cell_type": "code",
   "execution_count": 139,
   "id": "aa64c9dd",
   "metadata": {},
   "outputs": [
    {
     "name": "stdout",
     "output_type": "stream",
     "text": [
      "흑삼병이 출현한 개수 \n",
      "29\n",
      "24\n",
      "5\n",
      "2\n",
      "1\n"
     ]
    }
   ],
   "source": [
    "print('흑삼병이 출현한 개수 ')\n",
    "print(heuksam_count)\n",
    "print(plus_count)\n",
    "print(more_then_one_percent)\n",
    "print(more_then_two_percent)\n",
    "print(more_then_three_percent)"
   ]
  }
 ],
 "metadata": {
  "kernelspec": {
   "display_name": "Python 3",
   "language": "python",
   "name": "python3"
  },
  "language_info": {
   "codemirror_mode": {
    "name": "ipython",
    "version": 3
   },
   "file_extension": ".py",
   "mimetype": "text/x-python",
   "name": "python",
   "nbconvert_exporter": "python",
   "pygments_lexer": "ipython3",
   "version": "3.8.8"
  }
 },
 "nbformat": 4,
 "nbformat_minor": 5
}
